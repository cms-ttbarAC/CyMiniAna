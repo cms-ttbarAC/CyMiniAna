{
 "cells": [
  {
   "cell_type": "markdown",
   "metadata": {},
   "source": [
    "# FBU for ttbarAC\n",
    "Unfold results from the charge asymmetry analysis using FBU."
   ]
  },
  {
   "cell_type": "code",
   "execution_count": 1,
   "metadata": {},
   "outputs": [
    {
     "name": "stdout",
     "output_type": "stream",
     "text": [
      "\r",
      "[6.628kB/6.628kB][100%][==================================================][6.628kB/s]  \r",
      "[6.628kB/6.628kB][100%][==================================================][6.628kB/s]  \r\n"
     ]
    }
   ],
   "source": [
    "# enable your grid access (using the terminal)\n",
    "!xrdcp root://cmsxrootd.fnal.gov//store/user/demarley/lpc/unfolding-hats/hists.root ~"
   ]
  },
  {
   "cell_type": "code",
   "execution_count": 2,
   "metadata": {},
   "outputs": [
    {
     "name": "stderr",
     "output_type": "stream",
     "text": [
      "WARNING (theano.tensor.blas): Using NumPy C-API based implementation for BLAS functions.\n"
     ]
    }
   ],
   "source": [
    "import numpy as np\n",
    "import fbu\n",
    "import uproot\n",
    "import utils"
   ]
  },
  {
   "cell_type": "markdown",
   "metadata": {},
   "source": [
    "Load data from the ROOT file using `uproot`"
   ]
  },
  {
   "cell_type": "code",
   "execution_count": 3,
   "metadata": {},
   "outputs": [],
   "source": [
    "f = uproot.open(\"/home/dmarley/hists.root\")"
   ]
  },
  {
   "cell_type": "markdown",
   "metadata": {},
   "source": [
    "Within the file are the different histograms necessary for the unfolding."
   ]
  },
  {
   "cell_type": "code",
   "execution_count": 6,
   "metadata": {},
   "outputs": [],
   "source": [
    "uresmat = f['resmat_p']     # response matrix\n",
    "uttbar  = f['ttbar']      # ttbar\n",
    "uwjets  = f['wjets']      # w+jets\n",
    "ustop   = f['singletop']  # single top\n",
    "utruth  = f['truth']      # MC truth distribution"
   ]
  },
  {
   "cell_type": "code",
   "execution_count": 9,
   "metadata": {},
   "outputs": [
    {
     "data": {
      "image/png": "[encoded data removed]",
      "text/plain": [
       "<Figure size 432x288 with 2 Axes>"
      ]
     },
     "metadata": {},
     "output_type": "display_data"
    }
   ],
   "source": [
    "response = uresmat.numpy\n",
    "utils.plotResponseMatrix(response[0],bins=response[1])"
   ]
  },
  {
   "cell_type": "markdown",
   "metadata": {},
   "source": [
    "Run FBU!"
   ]
  },
  {
   "cell_type": "code",
   "execution_count": 10,
   "metadata": {},
   "outputs": [],
   "source": [
    "myfbu = fbu.PyFBU()"
   ]
  },
  {
   "cell_type": "code",
   "execution_count": 12,
   "metadata": {},
   "outputs": [],
   "source": [
    "myfbu.data     = uttbar.numpy[0]\n",
    "myfbu.response = response[0].tolist()\n",
    "\n",
    "unf_truth = utruth.numpy[0]\n",
    "myfbu.lower = [i*0.2 for i in unf_truth]   # lower bound on hyperbox\n",
    "myfbu.upper = [2*i for i in unf_truth]     # upper bound on hyperbox\n",
    "myfbu.nMCMC = 200000        # number of samplings\n",
    "myfbu.monitoring = False    # diagnostics"
   ]
  },
  {
   "cell_type": "code",
   "execution_count": 13,
   "metadata": {},
   "outputs": [
    {
     "name": "stderr",
     "output_type": "stream",
     "text": [
      "Assigned Metropolis to truth0\n",
      "Assigned Metropolis to truth1\n",
      "Assigned Metropolis to truth2\n",
      "Assigned Metropolis to truth3\n",
      "100%|██████████| 201000/201000 [03:37<00:00, 923.64it/s]\n"
     ]
    }
   ],
   "source": [
    "myfbu.run()"
   ]
  },
  {
   "cell_type": "markdown",
   "metadata": {},
   "source": [
    "Retrieve the N-dimensional posterior distribution in the form of a list of N arrays."
   ]
  },
  {
   "cell_type": "code",
   "execution_count": 14,
   "metadata": {},
   "outputs": [
    {
     "name": "stdout",
     "output_type": "stream",
     "text": [
      "> Trace =  [array([21541797, 21434531, 21401466, ..., 22178563, 22178563, 22286754]), array([15868501, 16033249, 15849333, ..., 16335216, 16440123, 16475785]), array([17668247, 17913832, 17747827, ..., 15926011, 15926011, 16502752]), array([20455932, 21471222, 21471222, ..., 21954797, 22570518, 22570518])]\n",
      "> Size of trace     =  4\n",
      "> Entries per trace =  200000\n"
     ]
    }
   ],
   "source": [
    "trace = myfbu.trace\n",
    "print \"> Trace = \",trace \n",
    "print \"> Size of trace     = \",len(trace)\n",
    "print \"> Entries per trace = \",len(trace[0])"
   ]
  },
  {
   "cell_type": "markdown",
   "metadata": {},
   "source": [
    "Each array corresponds to the projection of the posterior distribution for a given bin."
   ]
  },
  {
   "cell_type": "code",
   "execution_count": 15,
   "metadata": {},
   "outputs": [
    {
     "data": {
      "image/png": "[encoded data removed]",
      "text/plain": [
       "<Figure size 432x288 with 1 Axes>"
      ]
     },
     "metadata": {},
     "output_type": "display_data"
    }
   ],
   "source": [
    "utils.plotPosteriors(trace)"
   ]
  },
  {
   "cell_type": "markdown",
   "metadata": {},
   "source": [
    "For each unfolded bin, we can extract the mean and RMS."
   ]
  },
  {
   "cell_type": "code",
   "execution_count": 16,
   "metadata": {},
   "outputs": [
    {
     "name": "stdout",
     "output_type": "stream",
     "text": [
      " > Bin 0: 22144767.38 ± 540299.85\n",
      " > Bin 1: 16241265.61 ± 627007.90\n",
      " > Bin 2: 16290006.55 ± 642614.02\n",
      " > Bin 3: 22400888.52 ± 563348.46\n"
     ]
    }
   ],
   "source": [
    "utils.printPosteriors(trace)"
   ]
  },
  {
   "cell_type": "code",
   "execution_count": 34,
   "metadata": {},
   "outputs": [
    {
     "name": "stdout",
     "output_type": "stream",
     "text": [
      "0.003893320592006658\n"
     ]
    }
   ],
   "source": [
    "neg = sum( np.mean(unf_truth[i]) for i in range(2))\n",
    "pos = sum( np.mean(unf_truth[i]) for i in range(2,4) )\n",
    "\n",
    "truth_ac = (pos-neg)/(pos+neg)\n",
    "print truth_ac"
   ]
  },
  {
   "cell_type": "code",
   "execution_count": 26,
   "metadata": {},
   "outputs": [],
   "source": [
    "def computeAC(bins):\n",
    "    halfn = len(bins)/2\n",
    "    Npos = sum(bins[halfn:])\n",
    "    Nneg = sum(bins[:halfn])\n",
    "    return float(Npos-Nneg)/(Npos+Nneg)"
   ]
  },
  {
   "cell_type": "code",
   "execution_count": 28,
   "metadata": {},
   "outputs": [
    {
     "name": "stdout",
     "output_type": "stream",
     "text": [
      "0.00395487476778984 0.0129653010726881\n"
     ]
    }
   ],
   "source": [
    "unfacs = [computeAC(bins) for bins in zip(*trace)]\n",
    "ac     = np.mean(unfacs)\n",
    "acerr  = np.std(unfacs)\n",
    "print ac,acerr"
   ]
  },
  {
   "cell_type": "code",
   "execution_count": 37,
   "metadata": {},
   "outputs": [
    {
     "data": {
      "text/plain": [
       "<matplotlib.lines.Line2D at 0x7fe9d4285ad0>"
      ]
     },
     "execution_count": 37,
     "metadata": {},
     "output_type": "execute_result"
    },
    {
     "data": {
      "image/png": "[encoded data removed]",
      "text/plain": [
       "<Figure size 432x288 with 1 Axes>"
      ]
     },
     "metadata": {},
     "output_type": "display_data"
    }
   ],
   "source": [
    "import matplotlib.pyplot as plt\n",
    "plt.hist(unfacs)\n",
    "plt.axvline(x=truth_ac,color='k',lw=2)"
   ]
  },
  {
   "cell_type": "code",
   "execution_count": 18,
   "metadata": {},
   "outputs": [
    {
     "name": "stdout",
     "output_type": "stream",
     "text": [
      " > Bin 0: 5770.62192\n",
      " > Bin 1: -6860.60958\n",
      " > Bin 0: -8989.554145\n",
      " > Bin 1: 3095.477325\n"
     ]
    }
   ],
   "source": [
    "print \" > Bin 0: {0}\".format(unf_truth[0]-np.mean(trace[0]))\n",
    "print \" > Bin 1: {0}\".format(unf_truth[1]-np.mean(trace[1]))\n",
    "print \" > Bin 0: {0}\".format(unf_truth[2]-np.mean(trace[2]))\n",
    "print \" > Bin 1: {0}\".format(unf_truth[3]-np.mean(trace[3]))"
   ]
  },
  {
   "cell_type": "code",
   "execution_count": 19,
   "metadata": {},
   "outputs": [
    {
     "data": {
      "image/png": "[encoded data removed]",
      "text/plain": [
       "<Figure size 432x288 with 1 Axes>"
      ]
     },
     "metadata": {},
     "output_type": "display_data"
    }
   ],
   "source": [
    "utils.plotTrace([trace[0]])"
   ]
  },
  {
   "cell_type": "code",
   "execution_count": 20,
   "metadata": {
    "scrolled": true
   },
   "outputs": [
    {
     "data": {
      "image/png": "[encoded data removed]",
      "text/plain": [
       "<Figure size 432x288 with 1 Axes>"
      ]
     },
     "metadata": {},
     "output_type": "display_data"
    }
   ],
   "source": [
    "utils.plotTrace([trace[1]])"
   ]
  },
  {
   "cell_type": "code",
   "execution_count": null,
   "metadata": {},
   "outputs": [],
   "source": []
  }
 ],
 "metadata": {
  "kernelspec": {
   "display_name": "venv-fbu",
   "language": "python",
   "name": "venv-fbu"
  },
  "language_info": {
   "codemirror_mode": {
    "name": "ipython",
    "version": 2
   },
   "file_extension": ".py",
   "mimetype": "text/x-python",
   "name": "python",
   "nbconvert_exporter": "python",
   "pygments_lexer": "ipython2",
   "version": "2.7.5"
  }
 },
 "nbformat": 4,
 "nbformat_minor": 2
}
